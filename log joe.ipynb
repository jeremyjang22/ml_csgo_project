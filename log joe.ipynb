{
 "cells": [
  {
   "cell_type": "code",
   "execution_count": 1,
   "id": "c7b2d13b",
   "metadata": {},
   "outputs": [],
   "source": [
    "# Import Important Libraries\n",
    "import sklearn\n",
    "from sklearn.linear_model import LogisticRegression # importing Sklearn's logistic regression's module\n",
    "from sklearn import preprocessing # preprossing is what we do with the data before we run the learning algorithm\n",
    "from sklearn.model_selection import train_test_split \n",
    "import numpy as np\n",
    "# import math\n",
    "import matplotlib.pyplot as plt\n",
    "\n",
    "import pandas as pd\n",
    "import numpy.polynomial.polynomial as poly\n",
    "%matplotlib inline\n",
    "%matplotlib inline"
   ]
  },
  {
   "cell_type": "code",
   "execution_count": 2,
   "id": "1a7506c9",
   "metadata": {},
   "outputs": [],
   "source": [
    "df = pd.read_csv('csgo_round_snapshots.csv',header = 0)\n",
    "df = df.dropna()\n"
   ]
  },
  {
   "cell_type": "code",
   "execution_count": 3,
   "id": "409d2903",
   "metadata": {},
   "outputs": [],
   "source": [
    "#Extract our weapons features\n",
    "weapons_ct = df.loc[:, 'ct_weapon_ak47':'ct_weapon_tec9':2]\n",
    "weapons_t = df.loc[:, 't_weapon_ak47':'t_weapon_tec9':2]\n",
    "weapons_ct = weapons_ct.drop([\"ct_weapon_elite\"], axis = 1)\n",
    "weapons_t = weapons_t.drop([\"t_weapon_elite\"], axis = 1)\n",
    "\n",
    "#Compile list of costs for each weapon\n",
    "cost_list = np.array([2700,3300,4750,1400,500,2050,5000,1800,200,5200,2900,3100,1050,1300,1500,1500,1250,1700,1050,2350,600,1100,5000,3000,1700,1200,2000,700,500,200,300,200,500])\n",
    "cost_list = np.transpose(cost_list)\n",
    "#Calculate total weapon costs for T and CT\n",
    "total_cost_ct = np.dot(weapons_ct,cost_list)\n",
    "total_cost_t = np.dot(weapons_t,cost_list)\n"
   ]
  },
  {
   "cell_type": "code",
   "execution_count": 4,
   "id": "b34ed519",
   "metadata": {},
   "outputs": [],
   "source": [
    "df_NW = df.drop(df.iloc[:, 16:84], axis = 1)\n",
    "df_NW.insert(17,\"Total Weapon Cost T\", np.transpose(total_cost_t))\n",
    "df_NW.insert(17,\"Total Weapon Cost CT\", np.transpose(total_cost_ct))"
   ]
  },
  {
   "cell_type": "code",
   "execution_count": 5,
   "id": "96bf8acb",
   "metadata": {},
   "outputs": [],
   "source": [
    "df_NW[\"round_winner\"] = np.where(df_NW[\"round_winner\"] ==  \"CT\", \"1\", df_NW[\"round_winner\"])\n",
    "df_NW[\"round_winner\"] = np.where(df_NW[\"round_winner\"] ==  \"T\", \"0\", df_NW[\"round_winner\"])\n",
    "df_NW[\"bomb_planted\"] = np.where(df_NW[\"bomb_planted\"] ==  \"TRUE\", \"1\", df_NW[\"bomb_planted\"])\n",
    "df_NW[\"bomb_planted\"] = np.where(df_NW[\"bomb_planted\"] ==  \"FALSE\", \"0\", df_NW[\"bomb_planted\"])\n",
    "\n",
    "df_dust2 = df_NW.loc[df_NW[\"map\"] == \"de_dust2\"]\n",
    "df_inferno = df_NW.loc[df_NW[\"map\"] == \"de_inferno\"]\n",
    "df_nuke = df_NW.loc[df_NW[\"map\"] == \"de_nuke\"]\n",
    "df_mirage = df_NW.loc[df_NW[\"map\"] == \"de_mirage\"]\n",
    "df_overpass = df_NW.loc[df_NW[\"map\"] == \"de_overpass\"]\n",
    "df_cache = df_NW.loc[df_NW[\"map\"] == \"de_cache\"]\n",
    "df_vertigo = df_NW.loc[df_NW[\"map\"] == \"de_vertigo\"]\n",
    "df_train  = df_NW.loc[df_NW[\"map\"] == \"de_train\"]"
   ]
  },
  {
   "cell_type": "code",
   "execution_count": null,
   "id": "f248bef6",
   "metadata": {},
   "outputs": [],
   "source": [
    "\n"
   ]
  },
  {
   "cell_type": "code",
   "execution_count": null,
   "id": "4ac1ea27",
   "metadata": {},
   "outputs": [],
   "source": []
  }
 ],
 "metadata": {
  "kernelspec": {
   "display_name": "Python 3",
   "language": "python",
   "name": "python3"
  },
  "language_info": {
   "codemirror_mode": {
    "name": "ipython",
    "version": 3
   },
   "file_extension": ".py",
   "mimetype": "text/x-python",
   "name": "python",
   "nbconvert_exporter": "python",
   "pygments_lexer": "ipython3",
   "version": "3.8.8"
  }
 },
 "nbformat": 4,
 "nbformat_minor": 5
}
